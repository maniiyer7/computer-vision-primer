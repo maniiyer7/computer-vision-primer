{
 "cells": [
  {
   "cell_type": "markdown",
   "metadata": {},
   "source": [
    "# Image classification \n",
    "\n",
    "In image classification, we try to assign a class label to an image based on the prominent objects contained inside the image.\n",
    "\n",
    "Example:\n",
    "* Classifying images from a zoo according to the species\n",
    "* Classifying images of hand-written digits to the correct digit\n",
    "\n",
    "## What we'll be doing\n",
    "\n",
    "Digits (MNIST) with Logistic Regression!\n",
    "\n",
    "* Read images\n",
    "* Visualise them\n",
    "* Flatten the images\n",
    "* Resample for machine learning\n",
    "* Build Models\n",
    "* Predict on new data\n",
    "* Model assessment\n",
    "\n",
    "## Get the Images"
   ]
  },
  {
   "cell_type": "code",
   "execution_count": 1,
   "metadata": {
    "collapsed": false
   },
   "outputs": [
    {
     "name": "stdout",
     "output_type": "stream",
     "text": [
      "{'DESCR': 'Optical Recognition of Handwritten Digits Data Set\\n'\n",
      "          '===================================================\\n'\n",
      "          '\\n'\n",
      "          'Notes\\n'\n",
      "          '-----\\n'\n",
      "          'Data Set Characteristics:\\n'\n",
      "          '    :Number of Instances: 5620\\n'\n",
      "          '    :Number of Attributes: 64\\n'\n",
      "          '    :Attribute Information: 8x8 image of integer pixels in the '\n",
      "          'range 0..16.\\n'\n",
      "          '    :Missing Attribute Values: None\\n'\n",
      "          \"    :Creator: E. Alpaydin (alpaydin '@' boun.edu.tr)\\n\"\n",
      "          '    :Date: July; 1998\\n'\n",
      "          '\\n'\n",
      "          'This is a copy of the test set of the UCI ML hand-written digits '\n",
      "          'datasets\\n'\n",
      "          'http://archive.ics.uci.edu/ml/datasets/Optical+Recognition+of+Handwritten+Digits\\n'\n",
      "          '\\n'\n",
      "          'The data set contains images of hand-written digits: 10 classes '\n",
      "          'where\\n'\n",
      "          'each class refers to a digit.\\n'\n",
      "          '\\n'\n",
      "          'Preprocessing programs made available by NIST were used to extract\\n'\n",
      "          'normalized bitmaps of handwritten digits from a preprinted form. '\n",
      "          'From a\\n'\n",
      "          'total of 43 people, 30 contributed to the training set and '\n",
      "          'different 13\\n'\n",
      "          'to the test set. 32x32 bitmaps are divided into nonoverlapping '\n",
      "          'blocks of\\n'\n",
      "          '4x4 and the number of on pixels are counted in each block. This '\n",
      "          'generates\\n'\n",
      "          'an input matrix of 8x8 where each element is an integer in the '\n",
      "          'range\\n'\n",
      "          '0..16. This reduces dimensionality and gives invariance to small\\n'\n",
      "          'distortions.\\n'\n",
      "          '\\n'\n",
      "          'For info on NIST preprocessing routines, see M. D. Garris, J. L. '\n",
      "          'Blue, G.\\n'\n",
      "          'T. Candela, D. L. Dimmick, J. Geist, P. J. Grother, S. A. Janet, '\n",
      "          'and C.\\n'\n",
      "          'L. Wilson, NIST Form-Based Handprint Recognition System, NISTIR '\n",
      "          '5469,\\n'\n",
      "          '1994.\\n'\n",
      "          '\\n'\n",
      "          'References\\n'\n",
      "          '----------\\n'\n",
      "          '  - C. Kaynak (1995) Methods of Combining Multiple Classifiers and '\n",
      "          'Their\\n'\n",
      "          '    Applications to Handwritten Digit Recognition, MSc Thesis, '\n",
      "          'Institute of\\n'\n",
      "          '    Graduate Studies in Science and Engineering, Bogazici '\n",
      "          'University.\\n'\n",
      "          '  - E. Alpaydin, C. Kaynak (1998) Cascading Classifiers, '\n",
      "          'Kybernetika.\\n'\n",
      "          '  - Ken Tang and Ponnuthurai N. Suganthan and Xi Yao and A. Kai '\n",
      "          'Qin.\\n'\n",
      "          '    Linear dimensionalityreduction using relevance weighted LDA. '\n",
      "          'School of\\n'\n",
      "          '    Electrical and Electronic Engineering Nanyang Technological '\n",
      "          'University.\\n'\n",
      "          '    2005.\\n'\n",
      "          '  - Claudio Gentile. A New Approximate Maximal Margin '\n",
      "          'Classification\\n'\n",
      "          '    Algorithm. NIPS. 2000.\\n',\n",
      " 'data': array([[  0.,   0.,   5., ...,   0.,   0.,   0.],\n",
      "       [  0.,   0.,   0., ...,  10.,   0.,   0.],\n",
      "       [  0.,   0.,   0., ...,  16.,   9.,   0.],\n",
      "       ..., \n",
      "       [  0.,   0.,   1., ...,   6.,   0.,   0.],\n",
      "       [  0.,   0.,   2., ...,  12.,   0.,   0.],\n",
      "       [  0.,   0.,  10., ...,  12.,   1.,   0.]]),\n",
      " 'images': array([[[  0.,   0.,   5., ...,   1.,   0.,   0.],\n",
      "        [  0.,   0.,  13., ...,  15.,   5.,   0.],\n",
      "        [  0.,   3.,  15., ...,  11.,   8.,   0.],\n",
      "        ..., \n",
      "        [  0.,   4.,  11., ...,  12.,   7.,   0.],\n",
      "        [  0.,   2.,  14., ...,  12.,   0.,   0.],\n",
      "        [  0.,   0.,   6., ...,   0.,   0.,   0.]],\n",
      "\n",
      "       [[  0.,   0.,   0., ...,   5.,   0.,   0.],\n",
      "        [  0.,   0.,   0., ...,   9.,   0.,   0.],\n",
      "        [  0.,   0.,   3., ...,   6.,   0.,   0.],\n",
      "        ..., \n",
      "        [  0.,   0.,   1., ...,   6.,   0.,   0.],\n",
      "        [  0.,   0.,   1., ...,   6.,   0.,   0.],\n",
      "        [  0.,   0.,   0., ...,  10.,   0.,   0.]],\n",
      "\n",
      "       [[  0.,   0.,   0., ...,  12.,   0.,   0.],\n",
      "        [  0.,   0.,   3., ...,  14.,   0.,   0.],\n",
      "        [  0.,   0.,   8., ...,  16.,   0.,   0.],\n",
      "        ..., \n",
      "        [  0.,   9.,  16., ...,   0.,   0.,   0.],\n",
      "        [  0.,   3.,  13., ...,  11.,   5.,   0.],\n",
      "        [  0.,   0.,   0., ...,  16.,   9.,   0.]],\n",
      "\n",
      "       ..., \n",
      "       [[  0.,   0.,   1., ...,   1.,   0.,   0.],\n",
      "        [  0.,   0.,  13., ...,   2.,   1.,   0.],\n",
      "        [  0.,   0.,  16., ...,  16.,   5.,   0.],\n",
      "        ..., \n",
      "        [  0.,   0.,  16., ...,  15.,   0.,   0.],\n",
      "        [  0.,   0.,  15., ...,  16.,   0.,   0.],\n",
      "        [  0.,   0.,   2., ...,   6.,   0.,   0.]],\n",
      "\n",
      "       [[  0.,   0.,   2., ...,   0.,   0.,   0.],\n",
      "        [  0.,   0.,  14., ...,  15.,   1.,   0.],\n",
      "        [  0.,   4.,  16., ...,  16.,   7.,   0.],\n",
      "        ..., \n",
      "        [  0.,   0.,   0., ...,  16.,   2.,   0.],\n",
      "        [  0.,   0.,   4., ...,  16.,   2.,   0.],\n",
      "        [  0.,   0.,   5., ...,  12.,   0.,   0.]],\n",
      "\n",
      "       [[  0.,   0.,  10., ...,   1.,   0.,   0.],\n",
      "        [  0.,   2.,  16., ...,   1.,   0.,   0.],\n",
      "        [  0.,   0.,  15., ...,  15.,   0.,   0.],\n",
      "        ..., \n",
      "        [  0.,   4.,  16., ...,  16.,   6.,   0.],\n",
      "        [  0.,   8.,  16., ...,  16.,   8.,   0.],\n",
      "        [  0.,   1.,   8., ...,  12.,   1.,   0.]]]),\n",
      " 'target': array([0, 1, 2, ..., 8, 9, 8]),\n",
      " 'target_names': array([0, 1, 2, 3, 4, 5, 6, 7, 8, 9])}\n"
     ]
    }
   ],
   "source": [
    "import matplotlib.pyplot as plt\n",
    "from pprint import pprint\n",
    "from sklearn import datasets, metrics\n",
    "from sklearn.linear_model import LogisticRegression\n",
    "\n",
    "digits = datasets.load_digits()\n",
    "\n",
    "pprint(digits)"
   ]
  },
  {
   "cell_type": "markdown",
   "metadata": {},
   "source": [
    "## Visualize the Images\n",
    "\n",
    "* The data that we are interested in is made of 8x8 images of digits.\n",
    "* Let's have a look at the first 8 images, stored in the `images` attribute of the dataset.\n",
    "* For these images, we know which digit they represent: it is given in the 'target' of the dataset."
   ]
  },
  {
   "cell_type": "code",
   "execution_count": 2,
   "metadata": {
    "collapsed": false
   },
   "outputs": [
    {
     "data": {
      "image/png": "[encoded data removed]",
      "text/plain": [
       "<matplotlib.figure.Figure at 0x115f767f0>"
      ]
     },
     "metadata": {},
     "output_type": "display_data"
    }
   ],
   "source": [
    "images_and_labels = list(zip(digits.images, digits.target))\n",
    "for index, (image, label) in enumerate(images_and_labels[:8]):\n",
    "    plt.subplot(2, 4, index + 1)\n",
    "    plt.axis('off')\n",
    "    plt.imshow(image, cmap=plt.cm.gray_r, interpolation='nearest')\n",
    "    plt.title('Training: %i' % label)\n",
    "plt.show()"
   ]
  },
  {
   "cell_type": "markdown",
   "metadata": {},
   "source": [
    "## Flatten the Images\n",
    "\n",
    "To apply a classifier on this data, we need to flatten the image, to turn the data in a (samples, feature) matrix:"
   ]
  },
  {
   "cell_type": "code",
   "execution_count": 3,
   "metadata": {
    "collapsed": true
   },
   "outputs": [],
   "source": [
    "n_samples = len(digits.images)\n",
    "data = digits.images.reshape((n_samples, -1))"
   ]
  },
  {
   "cell_type": "markdown",
   "metadata": {},
   "source": [
    "## Model Building"
   ]
  },
  {
   "cell_type": "code",
   "execution_count": 4,
   "metadata": {
    "collapsed": true
   },
   "outputs": [],
   "source": [
    "# Create a classifier: a logistic regression classifier\n",
    "classifier = LogisticRegression()"
   ]
  },
  {
   "cell_type": "code",
   "execution_count": 5,
   "metadata": {
    "collapsed": false
   },
   "outputs": [
    {
     "data": {
      "text/plain": [
       "LogisticRegression(C=1.0, class_weight=None, dual=False, fit_intercept=True,\n",
       "          intercept_scaling=1, max_iter=100, multi_class='ovr', n_jobs=1,\n",
       "          penalty='l2', random_state=None, solver='liblinear', tol=0.0001,\n",
       "          verbose=0, warm_start=False)"
      ]
     },
     "execution_count": 5,
     "metadata": {},
     "output_type": "execute_result"
    }
   ],
   "source": [
    "# We learn the digits on the first half of the digits\n",
    "classifier.fit(data[:n_samples // 2], digits.target[:n_samples // 2])"
   ]
  },
  {
   "cell_type": "markdown",
   "metadata": {},
   "source": [
    "## Predicting on new data"
   ]
  },
  {
   "cell_type": "code",
   "execution_count": 6,
   "metadata": {
    "collapsed": true
   },
   "outputs": [],
   "source": [
    "# Now predict the value of the digit on the second half:\n",
    "expected = digits.target[n_samples // 2:]\n",
    "predicted = classifier.predict(data[n_samples // 2:])"
   ]
  },
  {
   "cell_type": "markdown",
   "metadata": {},
   "source": [
    "## Model Assessment"
   ]
  },
  {
   "cell_type": "code",
   "execution_count": 7,
   "metadata": {
    "collapsed": false
   },
   "outputs": [
    {
     "name": "stdout",
     "output_type": "stream",
     "text": [
      "Classification report for classifier LogisticRegression(C=1.0, class_weight=None, dual=False, fit_intercept=True,\n",
      "          intercept_scaling=1, max_iter=100, multi_class='ovr', n_jobs=1,\n",
      "          penalty='l2', random_state=None, solver='liblinear', tol=0.0001,\n",
      "          verbose=0, warm_start=False):\n",
      "             precision    recall  f1-score   support\n",
      "\n",
      "          0       0.94      0.97      0.96        88\n",
      "          1       0.86      0.89      0.88        91\n",
      "          2       0.98      0.98      0.98        86\n",
      "          3       0.99      0.82      0.90        91\n",
      "          4       0.99      0.93      0.96        92\n",
      "          5       0.83      0.90      0.86        91\n",
      "          6       0.94      0.99      0.96        91\n",
      "          7       0.98      0.89      0.93        89\n",
      "          8       0.89      0.88      0.88        88\n",
      "          9       0.83      0.92      0.87        92\n",
      "\n",
      "avg / total       0.92      0.92      0.92       899\n",
      "\n",
      "\n",
      "Confusion matrix:\n",
      "[[85  0  0  0  1  1  1  0  0  0]\n",
      " [ 0 81  0  1  0  0  1  0  2  6]\n",
      " [ 2  0 84  0  0  0  0  0  0  0]\n",
      " [ 0  1  0 75  0  6  0  2  5  2]\n",
      " [ 1  2  0  0 86  0  1  0  0  2]\n",
      " [ 0  3  0  0  0 82  2  0  0  4]\n",
      " [ 0  0  1  0  0  0 90  0  0  0]\n",
      " [ 0  1  0  0  0  5  0 79  1  3]\n",
      " [ 0  5  1  0  0  3  1  0 77  1]\n",
      " [ 2  1  0  0  0  2  0  0  2 85]]\n"
     ]
    }
   ],
   "source": [
    "print(\"Classification report for classifier %s:\\n%s\\n\"\n",
    "      % (classifier, metrics.classification_report(expected, predicted)))\n",
    "print(\"Confusion matrix:\\n%s\" % metrics.confusion_matrix(expected, predicted))"
   ]
  },
  {
   "cell_type": "code",
   "execution_count": 8,
   "metadata": {
    "collapsed": false
   },
   "outputs": [
    {
     "name": "stdout",
     "output_type": "stream",
     "text": [
      "Accuracy: 0.916573971079\n",
      "\n"
     ]
    }
   ],
   "source": [
    "print(\"Accuracy: %s\\n\" % (metrics.accuracy_score(expected, predicted)))"
   ]
  },
  {
   "cell_type": "markdown",
   "metadata": {},
   "source": [
    "## Visualization"
   ]
  },
  {
   "cell_type": "code",
   "execution_count": 9,
   "metadata": {
    "collapsed": false
   },
   "outputs": [
    {
     "data": {
      "image/png": "[encoded data removed]",
      "text/plain": [
       "<matplotlib.figure.Figure at 0x115f76cf8>"
      ]
     },
     "metadata": {},
     "output_type": "display_data"
    }
   ],
   "source": [
    "images_and_predictions = list(zip(digits.images[n_samples // 2:], predicted))\n",
    "for index, (image, prediction) in enumerate(images_and_predictions[:4]):\n",
    "    plt.subplot(2, 4, index + 5)\n",
    "    plt.axis('off')\n",
    "    plt.imshow(image, cmap=plt.cm.gray_r, interpolation='nearest')\n",
    "    plt.title('Prediction: %i' % prediction)\n",
    "\n",
    "plt.show()"
   ]
  },
  {
   "cell_type": "markdown",
   "metadata": {},
   "source": []
  },
  {
   "cell_type": "markdown",
   "metadata": {},
   "source": []
  }
 ],
 "metadata": {
  "kernelspec": {
   "display_name": "Python [conda env:carnd-term1]",
   "language": "python",
   "name": "conda-env-carnd-term1-py"
  },
  "language_info": {
   "codemirror_mode": {
    "name": "ipython",
    "version": 3
   },
   "file_extension": ".py",
   "mimetype": "text/x-python",
   "name": "python",
   "nbconvert_exporter": "python",
   "pygments_lexer": "ipython3",
   "version": "3.5.2"
  }
 },
 "nbformat": 4,
 "nbformat_minor": 1
}
